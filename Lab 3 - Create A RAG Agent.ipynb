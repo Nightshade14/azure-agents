{
 "cells": [
  {
   "cell_type": "markdown",
   "metadata": {},
   "source": [
    "# Lab 3: Build a Search Agent\n",
    "\n",
    "In this lab, we'll use the Azure AI Agent Service to create an agent that is able to retrieve information from documents stored in Azure AI Search, a vector database. This pattern is known as retrieval augmented generation or RAG. The documents that we'll be searching are health insurance policies."
   ]
  },
  {
   "cell_type": "markdown",
   "metadata": {},
   "source": [
    "#### Step 1: Load packages"
   ]
  },
  {
   "cell_type": "code",
   "execution_count": 1,
   "metadata": {},
   "outputs": [
    {
     "data": {
      "text/plain": [
       "True"
      ]
     },
     "execution_count": 1,
     "metadata": {},
     "output_type": "execute_result"
    }
   ],
   "source": [
    "import os\n",
    "from dotenv import load_dotenv\n",
    "from azure.ai.projects import AIProjectClient\n",
    "from azure.identity import DefaultAzureCredential\n",
    "from azure.ai.projects.models import AzureAISearchTool\n",
    "\n",
    "load_dotenv() # Loads the environment variables and credentials we need to setup the agent"
   ]
  },
  {
   "cell_type": "markdown",
   "metadata": {},
   "source": [
    "#### Step 2: Connect to your Azure AI Foundry project"
   ]
  },
  {
   "cell_type": "code",
   "execution_count": 2,
   "metadata": {},
   "outputs": [],
   "source": [
    "# Connecting to our Azure AI Foundry project, which will allow us to use the deployed gpt-4o model\n",
    "project_client = AIProjectClient.from_connection_string(\n",
    "    credential=DefaultAzureCredential(),\n",
    "    conn_str=os.environ[\"AIPROJECT_CONNECTION_STRING\"],\n",
    "    )"
   ]
  },
  {
   "cell_type": "markdown",
   "metadata": {},
   "source": [
    "#### Step 3: Connect to your Azure AI Search index"
   ]
  },
  {
   "cell_type": "code",
   "execution_count": 3,
   "metadata": {},
   "outputs": [
    {
     "name": "stdout",
     "output_type": "stream",
     "text": [
      "Connection ID: /subscriptions/654d52e1-f7cf-4b38-908f-79afaa1b1b48/resourceGroups/azure-ai-agents-1779832/providers/Microsoft.MachineLearningServices/workspaces/my-project-1779832/connections/mysearchservice1779832\n"
     ]
    }
   ],
   "source": [
    "# Iterate through the connections in your project and get the connection ID of the Aazure AI Search connection.\n",
    "conn_list = project_client.connections.list()\n",
    "conn_id = \"\"\n",
    "for conn in conn_list:\n",
    "    if conn.connection_type == \"CognitiveSearch\":\n",
    "        conn_id = conn.id\n",
    "        print(f\"Connection ID: {conn.id}\")\n",
    "\n",
    "# Connect to your Azure AI Search index\n",
    "ai_search = AzureAISearchTool(index_connection_id=conn_id, index_name=\"health-plan\")"
   ]
  },
  {
   "cell_type": "markdown",
   "metadata": {},
   "source": [
    "#### Step 4: Define the search agent"
   ]
  },
  {
   "cell_type": "code",
   "execution_count": 4,
   "metadata": {},
   "outputs": [],
   "source": [
    "search_agent = project_client.agents.create_agent(\n",
    "    model=\"gpt-4o\",\n",
    "    name=\"search-agent\",\n",
    "    instructions=\"You are a helpful agent that is an expert at searching health plan documents.\",\n",
    "    tools=ai_search.definitions,\n",
    "    tool_resources=ai_search.resources,\n",
    ") "
   ]
  },
  {
   "cell_type": "markdown",
   "metadata": {},
   "source": [
    "#### Step 5: Chat with the search agent\n",
    "\n",
    "Let's test our search agent by asking it to give us information about the Northwind Standard health plan."
   ]
  },
  {
   "cell_type": "code",
   "execution_count": 5,
   "metadata": {},
   "outputs": [
    {
     "name": "stdout",
     "output_type": "stream",
     "text": [
      "Agent: The Northwind Standard plan is a comprehensive health plan that covers medical, vision, and dental services. It also includes preventive care services and prescription drug coverage. With this plan, you can access a variety of in-network providers, such as primary care physicians, specialists, hospitals, and pharmacies【3:0†source】【3:2†source】.\n",
      "\n",
      "Northwind Standard covers several services, including:\n",
      "\n",
      "- Preventive care services like physicals, immunizations, and screenings\n",
      "- Diagnostic tests and treatments\n",
      "- Medical consultations\n",
      "- Physical therapy\n",
      "- Mental health services\n",
      "- Prescription drugs\n",
      "- Inpatient hospital services\n",
      "- Emergency services【3:1†source】.\n",
      "\n",
      "However, the plan does not cover some types of services, such as cosmetic services, experimental treatments, and most dental services. It also does not cover services provided by out-of-network providers【3:1†source】【3:4†source】.\n",
      "\n",
      "For costs, there are monthly premiums that must be paid to keep the coverage active, as well as potential out-of-pocket costs including copays, coinsurance, and deductibles【3:2†source】【3:3†source】. \n",
      "\n",
      "It's essential to check if the service requires pre-authorization and to review any Explanation of Benefits (EOB) provided after a claim is processed to understand the details of what was covered and paid【3:0†source】.\n"
     ]
    }
   ],
   "source": [
    "# The name of the health plan we want to search for\n",
    "plan_name = 'Northwind Standard'\n",
    "\n",
    "# Create a thread which is a conversation session between an agent and a user. \n",
    "thread = project_client.agents.create_thread()\n",
    "\n",
    "# Create a message in the thread with the user asking for information about a specific health plan\n",
    "message = project_client.agents.create_message(\n",
    "    thread_id=thread.id,\n",
    "    role=\"user\",\n",
    "    content=f\"Tell me about the {plan_name} plan.\", # The user's message\n",
    ")\n",
    "# Run the agent to process tne message in the thread\n",
    "run = project_client.agents.create_and_process_run(thread_id=thread.id, assistant_id=search_agent.id)\n",
    "\n",
    "# Check if the run was successful\n",
    "if run.status == \"failed\":\n",
    "    print(f\"Run failed: {run.last_error}\")\n",
    "\n",
    "# Delete the agent when it's done running\n",
    "project_client.agents.delete_agent(search_agent.id)\n",
    "\n",
    "# Fetch all the messages from the thread\n",
    "messages = project_client.agents.list_messages(thread_id=thread.id)\n",
    "\n",
    "# Get the last message, which is the agent's resposne to the user's question\n",
    "last_msg = messages.get_last_text_message_by_role(\"assistant\")\n",
    "\n",
    "# Display the agent's response\n",
    "print('Agent:', last_msg.text.value)"
   ]
  }
 ],
 "metadata": {
  "kernelspec": {
   "display_name": "venv",
   "language": "python",
   "name": "python3"
  },
  "language_info": {
   "codemirror_mode": {
    "name": "ipython",
    "version": 3
   },
   "file_extension": ".py",
   "mimetype": "text/x-python",
   "name": "python",
   "nbconvert_exporter": "python",
   "pygments_lexer": "ipython3",
   "version": "3.12.1"
  }
 },
 "nbformat": 4,
 "nbformat_minor": 2
}
